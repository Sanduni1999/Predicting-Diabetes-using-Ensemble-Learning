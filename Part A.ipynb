{
 "cells": [
  {
   "attachments": {},
   "cell_type": "markdown",
   "metadata": {},
   "source": [
    "## Domain: Hospitals and medicine\n",
    "### Project Topic: Predicting Diabetes using Ensemble Learning\n",
    "\n"
   ]
  },
  {
   "attachments": {},
   "cell_type": "markdown",
   "metadata": {},
   "source": [
    "Artificial Intelligence is a field of computer science which refers to software systems or physical machines that has ability to think and perform intelligently like a human mind. Nowadays, AI has been applied in most of the industries of the world. One main industry is Hospital and medicines. AI has been applied in the hospitals and medicines domain in various ways targeting to improve healthcare outcomes. Researchers show that AI has the potential to enhance diagnostic precision, patient outcomes, and system efficiency.\n",
    "\n",
    "•\tMedical Imagining: This will help healthcare professionals like radiologists to interpret and analyze the outcome of medical images including MRIs, CT scans, x-rays, and PET. And also, this helps them to identify tumors on mammograms or anomalies and evaluate details to investigate risks with patients and take proactive measures to improve their care.\n",
    "\n",
    "•\tDiagnosing disease: AI has been applied to diagnose various diseases such as cancer, diabetes, and heart disease, using patient’s symptoms, electronic health records, lab records and test results. This can be done by identifying and analyzing patterns from large amount of data. This will be helpful if a human medical professional may have missed to diagnose the disease.\n",
    "\n",
    "•\tTreatments: AI has been applied to assist patients with the best effective, personalized treatment plan using patient’s medical history data. For examples, radiation therapy for a cancer patient, Surgical planning, Care management, Rehabilitation. This can help to speed up the recruitment process and improve the overall efficiency of clinical trials.\n",
    "\n",
    "•\tDrugs: AI has helped to identify pharmacological targets and forecasting the effectiveness of different molecules. Studies shows that this is very useful when developing new drugs/medications because it saves time and resources. \n",
    "\n",
    "•\tClinical Decision: AI has been applied to take effective clinical decisions with real time, personalized scientific proof recommendations to clinicians which can enhance the accuracy and effectiveness of healthcare. \n",
    "\n",
    "Furthermore, issues like data biases, the interpretability of the models, and ethical considerations still need to be resolved. A strong regulatory framework is also required to guarantee that AI is applied safely and responsibly. Despite these obstacles, the use of artificial intelligence (AI) in the medical field has grown recently, and this trend is predicted to continue as further research reveals its potential advantages. Overall, AI has the potential to revolutionize healthcare by delivering patients with better, more precise, and more customized care. It's important to understand that artificial intelligence (AI) does not take on the role of human healthcare professionals, but it can be used to assist them.\n"
   ]
  },
  {
   "cell_type": "code",
   "execution_count": null,
   "metadata": {},
   "outputs": [],
   "source": []
  }
 ],
 "metadata": {
  "kernelspec": {
   "display_name": "base",
   "language": "python",
   "name": "python3"
  },
  "language_info": {
   "name": "python",
   "version": "3.9.12"
  },
  "orig_nbformat": 4,
  "vscode": {
   "interpreter": {
    "hash": "8bcfe50ca08a17b0c4b14f1945e5acf30df623b191943573ee70e01489a1e93c"
   }
  }
 },
 "nbformat": 4,
 "nbformat_minor": 2
}
