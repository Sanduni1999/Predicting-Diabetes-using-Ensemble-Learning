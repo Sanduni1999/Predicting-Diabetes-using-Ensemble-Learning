{
 "cells": [
  {
   "attachments": {},
   "cell_type": "markdown",
   "metadata": {},
   "source": [
    "## (a)\n",
    "\n",
    "The input required for the implementation of diabetes prediction using ensemble learning techniques is the Pima Indians Diabetes Database, which is available on the Kaggle website https://www.kaggle.com/datasets/uciml/pima-indians-diabetes-database. Since the information is only gathered once for each patient, it does not include time series or graph data.\n",
    "\n",
    "It provides patient demographic and health-related data. The data is presented in a tabular manner with the following attributes.\n",
    "\n",
    "•\tPregnancies: Number of times pregnant\n",
    "\n",
    "•\tGlucose: Plasma glucose concentration 2 hours in an oral glucose tolerance test\n",
    "\n",
    "•\tBloodPressure: Diastolic blood pressure (mm Hg)\n",
    "\n",
    "•\tSkinThickness: Triceps skin fold thickness (mm)\n",
    "\n",
    "•\tInsulin: 2-Hour serum insulin (mu U/ml)\n",
    "\n",
    "•\tBMI: Body mass index (weight in kg/(height in m)^2)\n",
    "\n",
    "•\tDiabetesPedigreeFunction: Diabetes pedigree function\n",
    "\n",
    "•\tAge: Age (years)\n",
    "\n",
    "•\tOutcome: Class variable (0 or 1)\n",
    "\n",
    "Data should be loaded into the development environment and perform necessary pre-processing such as handling missing values and normalizing the data. The data should be divided into training and testing sets after it has been loaded and pre-processed. The ensemble models will be trained using the training set, and their performance will be assessed using the testing set. The format of the input data for the ensemble models can be pandas DataFrame or numpy array, containing the features and the outcome variable.\n"
   ]
  },
  {
   "attachments": {},
   "cell_type": "markdown",
   "metadata": {},
   "source": [
    "## (b) - Diagram can be found in \n",
    "### Cw1_W1761916_SanduniBhagya.zip --> Diagram AAI CW.png"
   ]
  },
  {
   "cell_type": "markdown",
   "metadata": {},
   "source": []
  }
 ],
 "metadata": {
  "kernelspec": {
   "display_name": "base",
   "language": "python",
   "name": "python3"
  },
  "language_info": {
   "name": "python",
   "version": "3.9.12"
  },
  "orig_nbformat": 4,
  "vscode": {
   "interpreter": {
    "hash": "8bcfe50ca08a17b0c4b14f1945e5acf30df623b191943573ee70e01489a1e93c"
   }
  }
 },
 "nbformat": 4,
 "nbformat_minor": 2
}
