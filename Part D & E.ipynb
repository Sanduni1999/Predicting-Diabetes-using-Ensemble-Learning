{
 "cells": [
  {
   "attachments": {},
   "cell_type": "markdown",
   "metadata": {},
   "source": [
    "## Part D \n",
    "### Three tables which have comparison of actual results and predicted results of three ensemble models can be found in\n",
    "### Cw1_W1761916_SanduniBhagya.zip --> Part D & E.pdf"
   ]
  },
  {
   "cell_type": "markdown",
   "metadata": {},
   "source": []
  },
  {
   "attachments": {},
   "cell_type": "markdown",
   "metadata": {},
   "source": [
    "## Part E \n",
    "### A tables which has Ensemble Accuracy, Precision, Recall, F1-score, AUC of three ensemble models can be found in\n",
    "### Cw1_W1761916_SanduniBhagya.zip --> Part D & E.pdf"
   ]
  },
  {
   "cell_type": "markdown",
   "metadata": {},
   "source": []
  }
 ],
 "metadata": {
  "kernelspec": {
   "display_name": "base",
   "language": "python",
   "name": "python3"
  },
  "language_info": {
   "name": "python",
   "version": "3.9.12 (main, Apr  4 2022, 05:22:27) [MSC v.1916 64 bit (AMD64)]"
  },
  "orig_nbformat": 4,
  "vscode": {
   "interpreter": {
    "hash": "8bcfe50ca08a17b0c4b14f1945e5acf30df623b191943573ee70e01489a1e93c"
   }
  }
 },
 "nbformat": 4,
 "nbformat_minor": 2
}
