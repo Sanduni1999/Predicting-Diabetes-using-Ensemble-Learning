{
 "cells": [
  {
   "attachments": {},
   "cell_type": "markdown",
   "id": "1f3edbb1",
   "metadata": {},
   "source": [
    "## Predicting Diabetes using Ensemble Learning - Boosting"
   ]
  },
  {
   "cell_type": "code",
   "execution_count": 1,
   "metadata": {},
   "outputs": [],
   "source": [
    "import pandas as pd\n",
    "from sklearn.preprocessing import MinMaxScaler\n",
    "from sklearn.model_selection import train_test_split,cross_val_score\n",
    "from sklearn.ensemble import AdaBoostClassifier, RandomForestClassifier\n",
    "import numpy as np\n",
    "from sklearn.metrics import accuracy_score, precision_score, recall_score, f1_score, roc_auc_score"
   ]
  },
  {
   "attachments": {},
   "cell_type": "markdown",
   "id": "3b7fe728",
   "metadata": {},
   "source": [
    "Load the dataset"
   ]
  },
  {
   "cell_type": "code",
   "execution_count": 2,
   "id": "bcceca47",
   "metadata": {},
   "outputs": [
    {
     "data": {
      "text/html": [
       "<div>\n",
       "<style scoped>\n",
       "    .dataframe tbody tr th:only-of-type {\n",
       "        vertical-align: middle;\n",
       "    }\n",
       "\n",
       "    .dataframe tbody tr th {\n",
       "        vertical-align: top;\n",
       "    }\n",
       "\n",
       "    .dataframe thead th {\n",
       "        text-align: right;\n",
       "    }\n",
       "</style>\n",
       "<table border=\"1\" class=\"dataframe\">\n",
       "  <thead>\n",
       "    <tr style=\"text-align: right;\">\n",
       "      <th></th>\n",
       "      <th>Pregnancies</th>\n",
       "      <th>Glucose</th>\n",
       "      <th>BloodPressure</th>\n",
       "      <th>SkinThickness</th>\n",
       "      <th>Insulin</th>\n",
       "      <th>BMI</th>\n",
       "      <th>DiabetesPedigreeFunction</th>\n",
       "      <th>Age</th>\n",
       "      <th>Outcome</th>\n",
       "    </tr>\n",
       "  </thead>\n",
       "  <tbody>\n",
       "    <tr>\n",
       "      <th>0</th>\n",
       "      <td>6</td>\n",
       "      <td>148</td>\n",
       "      <td>72</td>\n",
       "      <td>35</td>\n",
       "      <td>0</td>\n",
       "      <td>33.6</td>\n",
       "      <td>0.627</td>\n",
       "      <td>50</td>\n",
       "      <td>1</td>\n",
       "    </tr>\n",
       "    <tr>\n",
       "      <th>1</th>\n",
       "      <td>1</td>\n",
       "      <td>85</td>\n",
       "      <td>66</td>\n",
       "      <td>29</td>\n",
       "      <td>0</td>\n",
       "      <td>26.6</td>\n",
       "      <td>0.351</td>\n",
       "      <td>31</td>\n",
       "      <td>0</td>\n",
       "    </tr>\n",
       "    <tr>\n",
       "      <th>2</th>\n",
       "      <td>8</td>\n",
       "      <td>183</td>\n",
       "      <td>64</td>\n",
       "      <td>0</td>\n",
       "      <td>0</td>\n",
       "      <td>23.3</td>\n",
       "      <td>0.672</td>\n",
       "      <td>32</td>\n",
       "      <td>1</td>\n",
       "    </tr>\n",
       "    <tr>\n",
       "      <th>3</th>\n",
       "      <td>1</td>\n",
       "      <td>89</td>\n",
       "      <td>66</td>\n",
       "      <td>23</td>\n",
       "      <td>94</td>\n",
       "      <td>28.1</td>\n",
       "      <td>0.167</td>\n",
       "      <td>21</td>\n",
       "      <td>0</td>\n",
       "    </tr>\n",
       "    <tr>\n",
       "      <th>4</th>\n",
       "      <td>0</td>\n",
       "      <td>137</td>\n",
       "      <td>40</td>\n",
       "      <td>35</td>\n",
       "      <td>168</td>\n",
       "      <td>43.1</td>\n",
       "      <td>2.288</td>\n",
       "      <td>33</td>\n",
       "      <td>1</td>\n",
       "    </tr>\n",
       "  </tbody>\n",
       "</table>\n",
       "</div>"
      ],
      "text/plain": [
       "   Pregnancies  Glucose  BloodPressure  SkinThickness  Insulin   BMI  \\\n",
       "0            6      148             72             35        0  33.6   \n",
       "1            1       85             66             29        0  26.6   \n",
       "2            8      183             64              0        0  23.3   \n",
       "3            1       89             66             23       94  28.1   \n",
       "4            0      137             40             35      168  43.1   \n",
       "\n",
       "   DiabetesPedigreeFunction  Age  Outcome  \n",
       "0                     0.627   50        1  \n",
       "1                     0.351   31        0  \n",
       "2                     0.672   32        1  \n",
       "3                     0.167   21        0  \n",
       "4                     2.288   33        1  "
      ]
     },
     "execution_count": 2,
     "metadata": {},
     "output_type": "execute_result"
    }
   ],
   "source": [
    "dataset=pd.read_csv(\"diabetes.csv\")\n",
    "dataset.head()"
   ]
  },
  {
   "cell_type": "code",
   "execution_count": 3,
   "id": "e64de404",
   "metadata": {},
   "outputs": [
    {
     "data": {
      "text/plain": [
       "6912"
      ]
     },
     "execution_count": 3,
     "metadata": {},
     "output_type": "execute_result"
    }
   ],
   "source": [
    "dataset.size"
   ]
  },
  {
   "cell_type": "code",
   "execution_count": 4,
   "id": "423c87a4",
   "metadata": {},
   "outputs": [
    {
     "data": {
      "text/plain": [
       "(768, 9)"
      ]
     },
     "execution_count": 4,
     "metadata": {},
     "output_type": "execute_result"
    }
   ],
   "source": [
    "dataset.shape"
   ]
  },
  {
   "attachments": {},
   "cell_type": "markdown",
   "id": "5d7dfa5d",
   "metadata": {},
   "source": [
    "Pre-processing"
   ]
  },
  {
   "cell_type": "code",
   "execution_count": 5,
   "id": "5f557314",
   "metadata": {},
   "outputs": [
    {
     "name": "stdout",
     "output_type": "stream",
     "text": [
      "Pregnancies                 0\n",
      "Glucose                     0\n",
      "BloodPressure               0\n",
      "SkinThickness               0\n",
      "Insulin                     0\n",
      "BMI                         0\n",
      "DiabetesPedigreeFunction    0\n",
      "Age                         0\n",
      "Outcome                     0\n",
      "dtype: int64\n"
     ]
    }
   ],
   "source": [
    "#Check for missing values\n",
    "print(dataset.isnull().sum())"
   ]
  },
  {
   "cell_type": "code",
   "execution_count": 6,
   "id": "c5ed5b08",
   "metadata": {},
   "outputs": [],
   "source": [
    "#Handle missing values\n",
    "dataset.fillna(dataset.mean(),inplace=True)"
   ]
  },
  {
   "cell_type": "code",
   "execution_count": 7,
   "id": "61706d18",
   "metadata": {},
   "outputs": [],
   "source": [
    "#Normalize the data\n",
    "scaler=MinMaxScaler()\n",
    "dataset[dataset.columns]=scaler.fit_transform(dataset[dataset.columns])"
   ]
  },
  {
   "cell_type": "code",
   "execution_count": 8,
   "id": "6227b840",
   "metadata": {},
   "outputs": [],
   "source": [
    "# X as the Feature Matrix\n",
    "# y as the response vector\n",
    "\n",
    "X=dataset[['Pregnancies','Glucose','BloodPressure','SkinThickness','Insulin','BMI','DiabetesPedigreeFunction','Age']]\n",
    "y=dataset['Outcome']"
   ]
  },
  {
   "cell_type": "code",
   "execution_count": 9,
   "id": "931fd187",
   "metadata": {},
   "outputs": [],
   "source": [
    "#Split the data into training and testing sets\n",
    "X_trainset,X_testset,y_trainset,y_testset=train_test_split(X,y,test_size=0.2,random_state=0)"
   ]
  },
  {
   "attachments": {},
   "cell_type": "markdown",
   "id": "84416b09",
   "metadata": {},
   "source": [
    "Modeling"
   ]
  },
  {
   "cell_type": "code",
   "execution_count": 10,
   "id": "2430bb6d",
   "metadata": {},
   "outputs": [],
   "source": [
    "#Create the base models\n",
    "rf = RandomForestClassifier(random_state=0)"
   ]
  },
  {
   "cell_type": "code",
   "execution_count": 11,
   "id": "fff8b71f",
   "metadata": {},
   "outputs": [],
   "source": [
    "# Create the ensemble model\n",
    "adaboost = AdaBoostClassifier(base_estimator=rf, n_estimators=50, random_state=0)"
   ]
  },
  {
   "cell_type": "code",
   "execution_count": 12,
   "id": "3d435803",
   "metadata": {},
   "outputs": [
    {
     "data": {
      "text/plain": [
       "AdaBoostClassifier(base_estimator=RandomForestClassifier(random_state=0),\n",
       "                   random_state=0)"
      ]
     },
     "execution_count": 12,
     "metadata": {},
     "output_type": "execute_result"
    }
   ],
   "source": [
    "# Train the ensemble model\n",
    "adaboost.fit(X_trainset, y_trainset)"
   ]
  },
  {
   "attachments": {},
   "cell_type": "markdown",
   "id": "05b320af",
   "metadata": {},
   "source": [
    "Prediction"
   ]
  },
  {
   "cell_type": "code",
   "execution_count": 13,
   "id": "41d6158e",
   "metadata": {},
   "outputs": [],
   "source": [
    "# Make predictions on the test set\n",
    "y_pred = adaboost.predict(X_testset)"
   ]
  },
  {
   "cell_type": "code",
   "execution_count": 14,
   "id": "681fc973",
   "metadata": {},
   "outputs": [
    {
     "data": {
      "text/plain": [
       "array([0., 0., 1., 0., 0., 1., 0., 0., 0., 0., 0., 0., 0., 0., 0.])"
      ]
     },
     "execution_count": 14,
     "metadata": {},
     "output_type": "execute_result"
    }
   ],
   "source": [
    "# Getting prediction results for tetsing part of the report (last 15 outcomes)\n",
    "y_pred[y_pred.size-15:y_pred.size]"
   ]
  },
  {
   "cell_type": "code",
   "execution_count": 15,
   "id": "0d66c222",
   "metadata": {},
   "outputs": [
    {
     "data": {
      "text/plain": [
       "653    0.0\n",
       "331    0.0\n",
       "568    0.0\n",
       "196    0.0\n",
       "76     0.0\n",
       "64     1.0\n",
       "671    0.0\n",
       "52     0.0\n",
       "310    0.0\n",
       "416    0.0\n",
       "476    1.0\n",
       "482    0.0\n",
       "230    1.0\n",
       "527    0.0\n",
       "380    0.0\n",
       "Name: Outcome, dtype: float64"
      ]
     },
     "execution_count": 15,
     "metadata": {},
     "output_type": "execute_result"
    }
   ],
   "source": [
    "# Getting actual results for tetsing part of the report (last 15 outcomes)\n",
    "y_testset\n",
    "y_testset.tail(15)"
   ]
  },
  {
   "attachments": {},
   "cell_type": "markdown",
   "id": "c34dad5f",
   "metadata": {},
   "source": [
    "Evaluation"
   ]
  },
  {
   "cell_type": "code",
   "execution_count": 16,
   "id": "7420a71c",
   "metadata": {},
   "outputs": [
    {
     "name": "stdout",
     "output_type": "stream",
     "text": [
      "Ensemble Accuracy: 0.8377\n",
      "Precision: 0.7619\n",
      "Recall: 0.6809\n",
      "F1-score: 0.7191\n"
     ]
    }
   ],
   "source": [
    "# Evaluate the performance\n",
    "print('Ensemble Accuracy: %0.4f' % accuracy_score(y_testset, y_pred))\n",
    "print(\"Precision: %0.4f\" % precision_score(y_testset, y_pred))\n",
    "print(\"Recall: %0.4f\" % recall_score(y_testset, y_pred))\n",
    "print(\"F1-score: %0.4f\" % f1_score(y_testset, y_pred))"
   ]
  },
  {
   "cell_type": "code",
   "execution_count": 17,
   "id": "9fe6fae2",
   "metadata": {},
   "outputs": [
    {
     "name": "stdout",
     "output_type": "stream",
     "text": [
      "Ensemble AUC: 0.86\n"
     ]
    }
   ],
   "source": [
    "# To get the AUC\n",
    "y_pred_proba = adaboost.predict_proba(X_testset)[:, 1]\n",
    "\n",
    "# To compute the AUC\n",
    "auc = roc_auc_score(y_testset, y_pred_proba)\n",
    "\n",
    "# Print the AUC\n",
    "print(\"Ensemble AUC: %0.2f\" % roc_auc_score(y_testset, y_pred_proba))"
   ]
  },
  {
   "cell_type": "code",
   "execution_count": 18,
   "id": "b68ed6f0",
   "metadata": {},
   "outputs": [
    {
     "name": "stdout",
     "output_type": "stream",
     "text": [
      "Ensemble Cross-Validated AUC: 0.83 (+/- 0.03)\n",
      "Ensemble Cross-Validated Accuracy: 0.7683 (+/- 0.0311)\n"
     ]
    }
   ],
   "source": [
    "# Perform k-fold cross validation\n",
    "scoresAcc = cross_val_score(adaboost, X, y, cv=5, scoring='roc_auc')\n",
    "scoresAuc = cross_val_score(adaboost, X, y, cv=5, scoring='accuracy')\n",
    "\n",
    "# Print the mean and standard deviation of the scores\n",
    "print(\"Ensemble Cross-Validated AUC: %0.2f (+/- %0.2f)\" % (scoresAcc.mean(), scoresAcc.std()))\n",
    "print(\"Ensemble Cross-Validated Accuracy: %0.4f (+/- %0.4f)\" % (scoresAuc.mean(), scoresAuc.std()))"
   ]
  },
  {
   "cell_type": "code",
   "execution_count": null,
   "id": "50c36e46",
   "metadata": {},
   "outputs": [],
   "source": []
  }
 ],
 "metadata": {
  "kernelspec": {
   "display_name": "Python 3.9.12 ('base')",
   "language": "python",
   "name": "python3"
  },
  "language_info": {
   "codemirror_mode": {
    "name": "ipython",
    "version": 3
   },
   "file_extension": ".py",
   "mimetype": "text/x-python",
   "name": "python",
   "nbconvert_exporter": "python",
   "pygments_lexer": "ipython3",
   "version": "3.9.12"
  },
  "vscode": {
   "interpreter": {
    "hash": "8bcfe50ca08a17b0c4b14f1945e5acf30df623b191943573ee70e01489a1e93c"
   }
  }
 },
 "nbformat": 4,
 "nbformat_minor": 5
}
